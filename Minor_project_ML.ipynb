{
  "nbformat": 4,
  "nbformat_minor": 0,
  "metadata": {
    "colab": {
      "name": "Minor project ML.ipynb",
      "private_outputs": true,
      "provenance": [],
      "mount_file_id": "136rWkAjz2xIokR4eVltAdEsaM-vdhSFo",
      "authorship_tag": "ABX9TyPAsR3HXLl8OtIc8XOV2sUw",
      "include_colab_link": true
    },
    "kernelspec": {
      "name": "python3",
      "display_name": "Python 3"
    },
    "language_info": {
      "name": "python"
    }
  },
  "cells": [
    {
      "cell_type": "markdown",
      "metadata": {
        "id": "view-in-github",
        "colab_type": "text"
      },
      "source": [
        "<a href=\"https://colab.research.google.com/github/nik280/Data-science-ML/blob/main/Minor_project_ML.ipynb\" target=\"_parent\"><img src=\"https://colab.research.google.com/assets/colab-badge.svg\" alt=\"Open In Colab\"/></a>"
      ]
    },
    {
      "cell_type": "code",
      "metadata": {
        "id": "Pu0AVXYT6o_p"
      },
      "source": [
        "import pandas as pd\n",
        "import matplotlib.pyplot as plt\n",
        "from skimage.io import imread\n",
        "from skimage.transform import resize"
      ],
      "execution_count": null,
      "outputs": []
    },
    {
      "cell_type": "code",
      "metadata": {
        "id": "Ad_-8j-76_0H"
      },
      "source": [
        "path = '/content/drive/MyDrive/Dataset ML/bikes/bike1.jpg'\n",
        "img = plt.imread(path)\n",
        "plt.imshow(img)\n",
        "img"
      ],
      "execution_count": null,
      "outputs": []
    },
    {
      "cell_type": "code",
      "metadata": {
        "id": "4d7Yy2od6_2R"
      },
      "source": [
        "img.shape"
      ],
      "execution_count": null,
      "outputs": []
    },
    {
      "cell_type": "code",
      "metadata": {
        "id": "duUuyG9Z6_5s"
      },
      "source": [
        "import os\n",
        "import numpy as np\n",
        "import pandas as pd\n",
        "import matplotlib.pyplot as plt\n",
        "from skimage.io import imread\n",
        "from skimage.transform import resize\n",
        "\n",
        "datadir = '/content/drive/MyDrive/Dataset ML'\n",
        "\n",
        "categories = ['bikes','cars'] # Name the folder with these categories\n",
        "target = []\n",
        "flat_data = []\n",
        "\n",
        "for i in categories:\n",
        "  path = os.path.join(datadir,i)\n",
        "  #print(path)\n",
        "  for img in os.listdir(path):\n",
        "    print(img)\n",
        "    img_array = imread(os.path.join(path,img))\n",
        "\n",
        "    img_resize = resize(img_array,(150,150,3)) # Value gets converted 0-1 from 0-255\n",
        "    flat_data.append(np.ndarray.flatten(img_resize))\n",
        "    target.append(i)\n",
        "    plt.imshow(img_resize)\n",
        "    plt.show()\n",
        "\n",
        "flat_data = np.array(flat_data)\n",
        "target = np.array(target)"
      ],
      "execution_count": null,
      "outputs": []
    },
    {
      "cell_type": "code",
      "metadata": {
        "id": "Bq8QZhOU6_7o"
      },
      "source": [
        "from skimage.color import rgb2gray\n",
        "\n",
        "img_resize = resize(img_array,(50,50))\n",
        "img_gray = rgb2gray(img_resize)\n",
        "plt.imshow(img_gray,cmap='gray')\n",
        "img_gray.size"
      ],
      "execution_count": null,
      "outputs": []
    },
    {
      "cell_type": "code",
      "metadata": {
        "id": "kiRpTQC16_95"
      },
      "source": [
        "df = pd.DataFrame(flat_data)\n",
        "df['Target'] = target\n",
        "df"
      ],
      "execution_count": null,
      "outputs": []
    },
    {
      "cell_type": "code",
      "metadata": {
        "id": "0miGt56x6__H"
      },
      "source": [
        ""
      ],
      "execution_count": null,
      "outputs": []
    },
    {
      "cell_type": "code",
      "metadata": {
        "id": "HFzM-Zkw7ABj"
      },
      "source": [
        ""
      ],
      "execution_count": null,
      "outputs": []
    },
    {
      "cell_type": "code",
      "metadata": {
        "id": "ANVub8cr7AGo"
      },
      "source": [
        ""
      ],
      "execution_count": null,
      "outputs": []
    },
    {
      "cell_type": "code",
      "metadata": {
        "id": "oJW70tq47ALJ"
      },
      "source": [
        ""
      ],
      "execution_count": null,
      "outputs": []
    }
  ]
}